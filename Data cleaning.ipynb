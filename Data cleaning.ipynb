{
 "cells": [
  {
   "cell_type": "code",
   "execution_count": 32,
   "metadata": {},
   "outputs": [],
   "source": [
    "import pandas as pd"
   ]
  },
  {
   "cell_type": "markdown",
   "metadata": {},
   "source": [
    "### Load the data"
   ]
  },
  {
   "cell_type": "code",
   "execution_count": 27,
   "metadata": {},
   "outputs": [],
   "source": [
    "## Title hyperlinks\n",
    "title_links = pd.read_csv(\"Data/soc-redditHyperlinks-title.tsv\",'\\t')\n",
    "## Body hyperlinks\n",
    "body_links = pd.read_csv(\"Data/soc-redditHyperlinks-body.tsv\",'\\t')"
   ]
  },
  {
   "cell_type": "markdown",
   "metadata": {},
   "source": [
    "### Take a look at the data"
   ]
  },
  {
   "cell_type": "code",
   "execution_count": 31,
   "metadata": {},
   "outputs": [
    {
     "data": {
      "text/html": [
       "<div>\n",
       "<style scoped>\n",
       "    .dataframe tbody tr th:only-of-type {\n",
       "        vertical-align: middle;\n",
       "    }\n",
       "\n",
       "    .dataframe tbody tr th {\n",
       "        vertical-align: top;\n",
       "    }\n",
       "\n",
       "    .dataframe thead th {\n",
       "        text-align: right;\n",
       "    }\n",
       "</style>\n",
       "<table border=\"1\" class=\"dataframe\">\n",
       "  <thead>\n",
       "    <tr style=\"text-align: right;\">\n",
       "      <th></th>\n",
       "      <th>SOURCE_SUBREDDIT</th>\n",
       "      <th>TARGET_SUBREDDIT</th>\n",
       "      <th>POST_ID</th>\n",
       "      <th>TIMESTAMP</th>\n",
       "      <th>LINK_SENTIMENT</th>\n",
       "      <th>PROPERTIES</th>\n",
       "    </tr>\n",
       "  </thead>\n",
       "  <tbody>\n",
       "    <tr>\n",
       "      <td>0</td>\n",
       "      <td>rddtgaming</td>\n",
       "      <td>rddtrust</td>\n",
       "      <td>1u4pzzs</td>\n",
       "      <td>2013-12-31 16:39:18</td>\n",
       "      <td>1</td>\n",
       "      <td>25.0,23.0,0.76,0.0,0.44,0.12,0.12,4.0,4.0,0.0,...</td>\n",
       "    </tr>\n",
       "    <tr>\n",
       "      <td>1</td>\n",
       "      <td>xboxone</td>\n",
       "      <td>battlefield_4</td>\n",
       "      <td>1u4tmfs</td>\n",
       "      <td>2013-12-31 17:59:11</td>\n",
       "      <td>1</td>\n",
       "      <td>100.0,88.0,0.78,0.02,0.08,0.13,0.07,16.0,16.0,...</td>\n",
       "    </tr>\n",
       "    <tr>\n",
       "      <td>2</td>\n",
       "      <td>ps4</td>\n",
       "      <td>battlefield_4</td>\n",
       "      <td>1u4tmos</td>\n",
       "      <td>2013-12-31 17:59:40</td>\n",
       "      <td>1</td>\n",
       "      <td>100.0,88.0,0.78,0.02,0.08,0.13,0.07,16.0,16.0,...</td>\n",
       "    </tr>\n",
       "    <tr>\n",
       "      <td>3</td>\n",
       "      <td>fitnesscirclejerk</td>\n",
       "      <td>leangains</td>\n",
       "      <td>1u50xfs</td>\n",
       "      <td>2013-12-31 19:01:56</td>\n",
       "      <td>1</td>\n",
       "      <td>49.0,43.0,0.775510204082,0.0,0.265306122449,0....</td>\n",
       "    </tr>\n",
       "    <tr>\n",
       "      <td>4</td>\n",
       "      <td>fitnesscirclejerk</td>\n",
       "      <td>lifeprotips</td>\n",
       "      <td>1u51nps</td>\n",
       "      <td>2013-12-31 21:02:28</td>\n",
       "      <td>1</td>\n",
       "      <td>14.0,14.0,0.785714285714,0.0,0.428571428571,0....</td>\n",
       "    </tr>\n",
       "  </tbody>\n",
       "</table>\n",
       "</div>"
      ],
      "text/plain": [
       "    SOURCE_SUBREDDIT TARGET_SUBREDDIT  POST_ID            TIMESTAMP  \\\n",
       "0         rddtgaming         rddtrust  1u4pzzs  2013-12-31 16:39:18   \n",
       "1            xboxone    battlefield_4  1u4tmfs  2013-12-31 17:59:11   \n",
       "2                ps4    battlefield_4  1u4tmos  2013-12-31 17:59:40   \n",
       "3  fitnesscirclejerk        leangains  1u50xfs  2013-12-31 19:01:56   \n",
       "4  fitnesscirclejerk      lifeprotips  1u51nps  2013-12-31 21:02:28   \n",
       "\n",
       "   LINK_SENTIMENT                                         PROPERTIES  \n",
       "0               1  25.0,23.0,0.76,0.0,0.44,0.12,0.12,4.0,4.0,0.0,...  \n",
       "1               1  100.0,88.0,0.78,0.02,0.08,0.13,0.07,16.0,16.0,...  \n",
       "2               1  100.0,88.0,0.78,0.02,0.08,0.13,0.07,16.0,16.0,...  \n",
       "3               1  49.0,43.0,0.775510204082,0.0,0.265306122449,0....  \n",
       "4               1  14.0,14.0,0.785714285714,0.0,0.428571428571,0....  "
      ]
     },
     "execution_count": 31,
     "metadata": {},
     "output_type": "execute_result"
    }
   ],
   "source": [
    "title_links.head()"
   ]
  },
  {
   "cell_type": "code",
   "execution_count": 30,
   "metadata": {},
   "outputs": [
    {
     "data": {
      "text/html": [
       "<div>\n",
       "<style scoped>\n",
       "    .dataframe tbody tr th:only-of-type {\n",
       "        vertical-align: middle;\n",
       "    }\n",
       "\n",
       "    .dataframe tbody tr th {\n",
       "        vertical-align: top;\n",
       "    }\n",
       "\n",
       "    .dataframe thead th {\n",
       "        text-align: right;\n",
       "    }\n",
       "</style>\n",
       "<table border=\"1\" class=\"dataframe\">\n",
       "  <thead>\n",
       "    <tr style=\"text-align: right;\">\n",
       "      <th></th>\n",
       "      <th>SOURCE_SUBREDDIT</th>\n",
       "      <th>TARGET_SUBREDDIT</th>\n",
       "      <th>POST_ID</th>\n",
       "      <th>TIMESTAMP</th>\n",
       "      <th>LINK_SENTIMENT</th>\n",
       "      <th>PROPERTIES</th>\n",
       "    </tr>\n",
       "  </thead>\n",
       "  <tbody>\n",
       "    <tr>\n",
       "      <td>0</td>\n",
       "      <td>leagueoflegends</td>\n",
       "      <td>teamredditteams</td>\n",
       "      <td>1u4nrps</td>\n",
       "      <td>2013-12-31 16:39:58</td>\n",
       "      <td>1</td>\n",
       "      <td>345.0,298.0,0.75652173913,0.0173913043478,0.08...</td>\n",
       "    </tr>\n",
       "    <tr>\n",
       "      <td>1</td>\n",
       "      <td>theredlion</td>\n",
       "      <td>soccer</td>\n",
       "      <td>1u4qkd</td>\n",
       "      <td>2013-12-31 18:18:37</td>\n",
       "      <td>-1</td>\n",
       "      <td>101.0,98.0,0.742574257426,0.019801980198,0.049...</td>\n",
       "    </tr>\n",
       "    <tr>\n",
       "      <td>2</td>\n",
       "      <td>inlandempire</td>\n",
       "      <td>bikela</td>\n",
       "      <td>1u4qlzs</td>\n",
       "      <td>2014-01-01 14:54:35</td>\n",
       "      <td>1</td>\n",
       "      <td>85.0,85.0,0.752941176471,0.0235294117647,0.082...</td>\n",
       "    </tr>\n",
       "    <tr>\n",
       "      <td>3</td>\n",
       "      <td>nfl</td>\n",
       "      <td>cfb</td>\n",
       "      <td>1u4sjvs</td>\n",
       "      <td>2013-12-31 17:37:55</td>\n",
       "      <td>1</td>\n",
       "      <td>1124.0,949.0,0.772241992883,0.0017793594306,0....</td>\n",
       "    </tr>\n",
       "    <tr>\n",
       "      <td>4</td>\n",
       "      <td>playmygame</td>\n",
       "      <td>gamedev</td>\n",
       "      <td>1u4w5ss</td>\n",
       "      <td>2014-01-01 02:51:13</td>\n",
       "      <td>1</td>\n",
       "      <td>715.0,622.0,0.777622377622,0.00699300699301,0....</td>\n",
       "    </tr>\n",
       "  </tbody>\n",
       "</table>\n",
       "</div>"
      ],
      "text/plain": [
       "  SOURCE_SUBREDDIT TARGET_SUBREDDIT  POST_ID            TIMESTAMP  \\\n",
       "0  leagueoflegends  teamredditteams  1u4nrps  2013-12-31 16:39:58   \n",
       "1       theredlion           soccer   1u4qkd  2013-12-31 18:18:37   \n",
       "2     inlandempire           bikela  1u4qlzs  2014-01-01 14:54:35   \n",
       "3              nfl              cfb  1u4sjvs  2013-12-31 17:37:55   \n",
       "4       playmygame          gamedev  1u4w5ss  2014-01-01 02:51:13   \n",
       "\n",
       "   LINK_SENTIMENT                                         PROPERTIES  \n",
       "0               1  345.0,298.0,0.75652173913,0.0173913043478,0.08...  \n",
       "1              -1  101.0,98.0,0.742574257426,0.019801980198,0.049...  \n",
       "2               1  85.0,85.0,0.752941176471,0.0235294117647,0.082...  \n",
       "3               1  1124.0,949.0,0.772241992883,0.0017793594306,0....  \n",
       "4               1  715.0,622.0,0.777622377622,0.00699300699301,0....  "
      ]
     },
     "execution_count": 30,
     "metadata": {},
     "output_type": "execute_result"
    }
   ],
   "source": [
    "body_links.head()"
   ]
  },
  {
   "cell_type": "markdown",
   "metadata": {},
   "source": [
    "## the data is presented is as follows\n",
    "\n",
    "- SOURCE_SUBREDDIT: the subreddit where the link originates\n",
    "- TARGET_SUBREDDIT: the subreddit where the link ends\n",
    "- POST_ID: the post in the source subreddit that starts the link\n",
    "- TIMESTAMP: time time of the post\n",
    "- POST_LABEL: label indicating if the source post is explicitly negative towards the target post. The value is -1 if the source is negative towards the target, and 1 if it is neutral or positive. The label is created using crowd-sourcing and training a text based classifier, and is better than simple sentiment analysis of the posts. Please see the reference paper for details.\n",
    "- POST_PROPERTIES: a vector representing the text properties of the source post, listed as a list of comma separated numbers. The vector elements are the following:\n",
    "    1. Number of characters\n",
    "    2. Number of characters without counting white space\n",
    "    3. Fraction of alphabetical characters\n",
    "    4. Fraction of digits\n",
    "    5. Fraction of uppercase characters\n",
    "    6. Fraction of white spaces\n",
    "    7. Fraction of special characters, such as comma, exclamation mark, etc.\n",
    "    8. Number of words\n",
    "    9. Number of unique works\n",
    "    10. Number of long words (at least 6 characters)\n",
    "    11. Average word length\n",
    "    12. Number of unique stopwords\n",
    "    13. Fraction of stopwords\n",
    "    14. Number of sentences\n",
    "    15. Number of long sentences (at least 10 words)\n",
    "    16. Average number of characters per sentence\n",
    "    17. Average number of words per sentence\n",
    "    18. Automated readability index\n",
    "    19. Positive sentiment calculated by VADER\n",
    "    20. Negative sentiment calculated by VADER\n",
    "    21. Compound sentiment calculated by VADER\n",
    "    22. LIWC_Funct\n",
    "    23. LIWC_Pronoun\n",
    "    24. LIWC_Ppron\n",
    "    25. LIWC_I\n",
    "    26. LIWC_We\n",
    "    27. LIWC_You\n",
    "    28. LIWC_SheHe\n",
    "    29. LIWC_They\n",
    "    30. LIWC_Ipron\n",
    "    31. LIWC_Article\n",
    "    32. LIWC_Verbs\n",
    "    33. LIWC_AuxVb\n",
    "    34. LIWC_Past\n",
    "    35. LIWC_Present\n",
    "    36. LIWC_Future\n",
    "    37. LIWC_Adverbs\n",
    "    38. LIWC_Prep\n",
    "    39. LIWC_Conj\n",
    "    40. LIWC_Negate\n",
    "    41. LIWC_Quant\n",
    "    42. LIWC_Numbers\n",
    "    43. LIWC_Swear\n",
    "    44. LIWC_Social\n",
    "    45. LIWC_Family\n",
    "    46. LIWC_Friends\n",
    "    47. LIWC_Humans\n",
    "    48. LIWC_Affect\n",
    "    49. LIWC_Posemo\n",
    "    50. LIWC_Negemo\n",
    "    51. LIWC_Anx\n",
    "    52. LIWC_Anger\n",
    "    53. LIWC_Sad\n",
    "    54. LIWC_CogMech\n",
    "    55. LIWC_Insight\n",
    "    56. LIWC_Cause\n",
    "    57. LIWC_Discrep\n",
    "    58. LIWC_Tentat\n",
    "    59. LIWC_Certain\n",
    "    60. LIWC_Inhib\n",
    "    61. LIWC_Incl\n",
    "    62. LIWC_Excl\n",
    "    63. LIWC_Percept\n",
    "    64. LIWC_See\n",
    "    65. LIWC_Hear\n",
    "    66. LIWC_Feel\n",
    "    67. LIWC_Bio\n",
    "    68. LIWC_Body\n",
    "    69. LIWC_Health\n",
    "    70. LIWC_Sexual\n",
    "    71. LIWC_Ingest\n",
    "    72. LIWC_Relativ\n",
    "    73. LIWC_Motion\n",
    "    74. LIWC_Space\n",
    "    75. LIWC_Time\n",
    "    76. LIWC_Work\n",
    "    77. LIWC_Achiev\n",
    "    78. LIWC_Leisure\n",
    "    79. LIWC_Home\n",
    "    80. LIWC_Money\n",
    "    81. LIWC_Relig\n",
    "    82. LIWC_Death\n",
    "    83. LIWC_Assent\n",
    "    84. LIWC_Dissent\n",
    "    85. LIWC_Nonflu\n",
    "    86. LIWC_Filler    "
   ]
  },
  {
   "cell_type": "markdown",
   "metadata": {},
   "source": [
    "###  POST_PROPERTIES were constructed in order to assign a sign (-1 or 1) to the directed link betweet the SOURCE_SUBREDDIT and TARGET_SUBREDDIT. These signs are contained in POST_LABEL. Thus, we will basically need only those three features"
   ]
  },
  {
   "cell_type": "code",
   "execution_count": 33,
   "metadata": {},
   "outputs": [],
   "source": [
    "## Drop unwanted features \n",
    "title_links = title_links[[\"SOURCE_SUBREDDIT\",\"TARGET_SUBREDDIT\",\"LINK_SENTIMENT\"]]\n",
    "body_links = body_links[[\"SOURCE_SUBREDDIT\",\"TARGET_SUBREDDIT\",\"LINK_SENTIMENT\"]]"
   ]
  },
  {
   "cell_type": "code",
   "execution_count": 34,
   "metadata": {},
   "outputs": [
    {
     "data": {
      "text/html": [
       "<div>\n",
       "<style scoped>\n",
       "    .dataframe tbody tr th:only-of-type {\n",
       "        vertical-align: middle;\n",
       "    }\n",
       "\n",
       "    .dataframe tbody tr th {\n",
       "        vertical-align: top;\n",
       "    }\n",
       "\n",
       "    .dataframe thead th {\n",
       "        text-align: right;\n",
       "    }\n",
       "</style>\n",
       "<table border=\"1\" class=\"dataframe\">\n",
       "  <thead>\n",
       "    <tr style=\"text-align: right;\">\n",
       "      <th></th>\n",
       "      <th>SOURCE_SUBREDDIT</th>\n",
       "      <th>TARGET_SUBREDDIT</th>\n",
       "      <th>LINK_SENTIMENT</th>\n",
       "    </tr>\n",
       "  </thead>\n",
       "  <tbody>\n",
       "    <tr>\n",
       "      <td>0</td>\n",
       "      <td>rddtgaming</td>\n",
       "      <td>rddtrust</td>\n",
       "      <td>1</td>\n",
       "    </tr>\n",
       "    <tr>\n",
       "      <td>1</td>\n",
       "      <td>xboxone</td>\n",
       "      <td>battlefield_4</td>\n",
       "      <td>1</td>\n",
       "    </tr>\n",
       "    <tr>\n",
       "      <td>2</td>\n",
       "      <td>ps4</td>\n",
       "      <td>battlefield_4</td>\n",
       "      <td>1</td>\n",
       "    </tr>\n",
       "    <tr>\n",
       "      <td>3</td>\n",
       "      <td>fitnesscirclejerk</td>\n",
       "      <td>leangains</td>\n",
       "      <td>1</td>\n",
       "    </tr>\n",
       "    <tr>\n",
       "      <td>4</td>\n",
       "      <td>fitnesscirclejerk</td>\n",
       "      <td>lifeprotips</td>\n",
       "      <td>1</td>\n",
       "    </tr>\n",
       "  </tbody>\n",
       "</table>\n",
       "</div>"
      ],
      "text/plain": [
       "    SOURCE_SUBREDDIT TARGET_SUBREDDIT  LINK_SENTIMENT\n",
       "0         rddtgaming         rddtrust               1\n",
       "1            xboxone    battlefield_4               1\n",
       "2                ps4    battlefield_4               1\n",
       "3  fitnesscirclejerk        leangains               1\n",
       "4  fitnesscirclejerk      lifeprotips               1"
      ]
     },
     "execution_count": 34,
     "metadata": {},
     "output_type": "execute_result"
    }
   ],
   "source": [
    "title_links.head()"
   ]
  },
  {
   "cell_type": "code",
   "execution_count": 118,
   "metadata": {},
   "outputs": [
    {
     "name": "stdout",
     "output_type": "stream",
     "text": [
      "The number of links in the title links dataset:\t 571927\n",
      "The number of unique source subreddits: \t 43695\n",
      "the set of all subreddits in the title dataset:\t 54075\n"
     ]
    }
   ],
   "source": [
    "title_source_subreddits = title_links.SOURCE_SUBREDDIT.values.tolist()\n",
    "print(f'The number of links in the title links dataset:\\t {len(title_source_subreddits)}')\n",
    "title_source_set = set(title_source_subreddits)\n",
    "print(f'The number of unique source subreddits: \\t {len(title_source_set)}')\n",
    "title_subreddits = set(title_links.SOURCE_SUBREDDIT.values.tolist() + title_links.TARGET_SUBREDDIT.values.tolist())\n",
    "print(f'the set of all subreddits in the title dataset:\\t {len(title_subreddits)}')"
   ]
  },
  {
   "cell_type": "code",
   "execution_count": 119,
   "metadata": {},
   "outputs": [
    {
     "name": "stdout",
     "output_type": "stream",
     "text": [
      "The number of links in the body links dataset: \t 286561\n",
      "The number of unique source subreddits : \t 27863\n",
      "the set of all subreddits in the body dataset :\t 35776\n"
     ]
    }
   ],
   "source": [
    "body_source_subreddits = body_links.SOURCE_SUBREDDIT.values.tolist()\n",
    "print(f'The number of links in the body links dataset: \\t {len(body_source_subreddits)}')\n",
    "body_source_set = set(body_source_subreddits)\n",
    "print(f'The number of unique source subreddits : \\t {len(body_source_set)}')\n",
    "body_subreddits = set(body_links.SOURCE_SUBREDDIT.values.tolist() + body_links.TARGET_SUBREDDIT.values.tolist())\n",
    "print(f'the set of all subreddits in the body dataset :\\t {len(body_subreddits)}')"
   ]
  },
  {
   "cell_type": "code",
   "execution_count": 100,
   "metadata": {},
   "outputs": [
    {
     "data": {
      "text/html": [
       "<div>\n",
       "<style scoped>\n",
       "    .dataframe tbody tr th:only-of-type {\n",
       "        vertical-align: middle;\n",
       "    }\n",
       "\n",
       "    .dataframe tbody tr th {\n",
       "        vertical-align: top;\n",
       "    }\n",
       "\n",
       "    .dataframe thead th {\n",
       "        text-align: right;\n",
       "    }\n",
       "</style>\n",
       "<table border=\"1\" class=\"dataframe\">\n",
       "  <thead>\n",
       "    <tr style=\"text-align: right;\">\n",
       "      <th></th>\n",
       "      <th>SOURCE_SUBREDDIT</th>\n",
       "      <th>TARGET_SUBREDDIT</th>\n",
       "      <th>LINK_SENTIMENT</th>\n",
       "    </tr>\n",
       "  </thead>\n",
       "  <tbody>\n",
       "    <tr>\n",
       "      <td>0</td>\n",
       "      <td>rddtgaming</td>\n",
       "      <td>rddtrust</td>\n",
       "      <td>1</td>\n",
       "    </tr>\n",
       "    <tr>\n",
       "      <td>1</td>\n",
       "      <td>xboxone</td>\n",
       "      <td>battlefield_4</td>\n",
       "      <td>1</td>\n",
       "    </tr>\n",
       "    <tr>\n",
       "      <td>2</td>\n",
       "      <td>ps4</td>\n",
       "      <td>battlefield_4</td>\n",
       "      <td>1</td>\n",
       "    </tr>\n",
       "    <tr>\n",
       "      <td>3</td>\n",
       "      <td>fitnesscirclejerk</td>\n",
       "      <td>leangains</td>\n",
       "      <td>1</td>\n",
       "    </tr>\n",
       "    <tr>\n",
       "      <td>4</td>\n",
       "      <td>fitnesscirclejerk</td>\n",
       "      <td>lifeprotips</td>\n",
       "      <td>1</td>\n",
       "    </tr>\n",
       "    <tr>\n",
       "      <td>...</td>\n",
       "      <td>...</td>\n",
       "      <td>...</td>\n",
       "      <td>...</td>\n",
       "    </tr>\n",
       "    <tr>\n",
       "      <td>286556</td>\n",
       "      <td>negareddit</td>\n",
       "      <td>debatefascism</td>\n",
       "      <td>1</td>\n",
       "    </tr>\n",
       "    <tr>\n",
       "      <td>286557</td>\n",
       "      <td>mildlynomil</td>\n",
       "      <td>justnomil</td>\n",
       "      <td>1</td>\n",
       "    </tr>\n",
       "    <tr>\n",
       "      <td>286558</td>\n",
       "      <td>mmorpg</td>\n",
       "      <td>blackdesertonline</td>\n",
       "      <td>1</td>\n",
       "    </tr>\n",
       "    <tr>\n",
       "      <td>286559</td>\n",
       "      <td>electricskateboards</td>\n",
       "      <td>askreddit</td>\n",
       "      <td>1</td>\n",
       "    </tr>\n",
       "    <tr>\n",
       "      <td>286560</td>\n",
       "      <td>mgtow</td>\n",
       "      <td>dataisbeautiful</td>\n",
       "      <td>1</td>\n",
       "    </tr>\n",
       "  </tbody>\n",
       "</table>\n",
       "<p>858488 rows × 3 columns</p>\n",
       "</div>"
      ],
      "text/plain": [
       "           SOURCE_SUBREDDIT   TARGET_SUBREDDIT  LINK_SENTIMENT\n",
       "0                rddtgaming           rddtrust               1\n",
       "1                   xboxone      battlefield_4               1\n",
       "2                       ps4      battlefield_4               1\n",
       "3         fitnesscirclejerk          leangains               1\n",
       "4         fitnesscirclejerk        lifeprotips               1\n",
       "...                     ...                ...             ...\n",
       "286556           negareddit      debatefascism               1\n",
       "286557          mildlynomil          justnomil               1\n",
       "286558               mmorpg  blackdesertonline               1\n",
       "286559  electricskateboards          askreddit               1\n",
       "286560                mgtow    dataisbeautiful               1\n",
       "\n",
       "[858488 rows x 3 columns]"
      ]
     },
     "execution_count": 100,
     "metadata": {},
     "output_type": "execute_result"
    }
   ],
   "source": [
    "Data = pd.concat([title_links,body_links])\n",
    "Data"
   ]
  },
  {
   "cell_type": "code",
   "execution_count": 124,
   "metadata": {},
   "outputs": [
    {
     "name": "stdout",
     "output_type": "stream",
     "text": [
      "The number of links in all data: \t 858488\n",
      "The number of unique source subreddits:  55863\n",
      "the set of all subreddits :\t\t 67180\n"
     ]
    }
   ],
   "source": [
    "source_subreddits = Data.SOURCE_SUBREDDIT.values.tolist()\n",
    "print(f'The number of links in all data: \\t {len(source_subreddits)}')\n",
    "source_set = set(source_subreddits)\n",
    "print(f'The number of unique source subreddits:  {len(source_set)}')\n",
    "subreddits = set(Data.SOURCE_SUBREDDIT.values.tolist() + Data.TARGET_SUBREDDIT.values.tolist())\n",
    "print(f'the set of all subreddits :\\t\\t {len(subreddits)}')"
   ]
  },
  {
   "cell_type": "code",
   "execution_count": 268,
   "metadata": {},
   "outputs": [
    {
     "name": "stdout",
     "output_type": "stream",
     "text": [
      "There is 776278 positive links and 82210 negative links\n"
     ]
    }
   ],
   "source": [
    "number_pos_links = Data.where(Data.LINK_SENTIMENT==1).count()[0]\n",
    "number_neg_links = Data.where(Data.LINK_SENTIMENT==-1).count()[0]\n",
    "print(f'There is {number_pos_links} positive links and {number_neg_links} negative links')"
   ]
  },
  {
   "cell_type": "code",
   "execution_count": 275,
   "metadata": {},
   "outputs": [
    {
     "name": "stdout",
     "output_type": "stream",
     "text": [
      "REDDIT : Pourcentage of (+)edges is 90.4% and pourcentage of (-)edges is 9.6%\n"
     ]
    }
   ],
   "source": [
    "print(f'REDDIT : Pourcentage of (+)edges is {round(number_pos_links*100/len(Data),1)}% and pourcentage of (-)edges is {round(number_neg_links*100/len(Data),1)}%')"
   ]
  },
  {
   "cell_type": "code",
   "execution_count": 99,
   "metadata": {},
   "outputs": [],
   "source": [
    "import networkx as nx"
   ]
  },
  {
   "cell_type": "code",
   "execution_count": 270,
   "metadata": {},
   "outputs": [],
   "source": [
    "complete_graph = nx.from_pandas_edgelist(Data,source='SOURCE_SUBREDDIT', target=\"TARGET_SUBREDDIT\", edge_attr = \"LINK_SENTIMENT\",create_using=nx.DiGraph)"
   ]
  },
  {
   "cell_type": "code",
   "execution_count": 272,
   "metadata": {},
   "outputs": [
    {
     "name": "stdout",
     "output_type": "stream",
     "text": [
      "epinions:    Nodes = 67180  Edges = 339643\n",
      "REDDIT : Pourcentage of (+)edges is 92.5% and pourcentage of (-)edges is 7.5%\n"
     ]
    }
   ],
   "source": [
    "nbr_nodes = complete_graph.number_of_nodes()\n",
    "nbr_edges = complete_graph.number_of_edges()\n",
    "print(\"REDDIT:    Nodes =\",nbr_nodes,\" Edges =\",nbr_edges)\n",
    "\n",
    "sum_of_pos = sum(1 if w[\"LINK_SENTIMENT\"]==1 else 0 for (_,_,w) in complete_graph.edges(data=True))\n",
    "sum_of_neg = sum(1 if w[\"LINK_SENTIMENT\"]==-1 else 0 for (_,_,w) in complete_graph.edges(data=True))\n",
    "pourc_of_pos = round(100 *sum_of_pos/nbr_edges,1)\n",
    "pourc_of_neg = round(100 *sum_of_neg/nbr_edges,1)\n",
    "print(\"REDDIT : Pourcentage of (+)edges is {pos}% and pourcentage of (-)edges is {neg}%\".format(pos = pourc_of_pos, neg= pourc_of_neg))"
   ]
  },
  {
   "cell_type": "code",
   "execution_count": 273,
   "metadata": {},
   "outputs": [
    {
     "data": {
      "text/plain": [
       "4077337"
      ]
     },
     "execution_count": 273,
     "metadata": {},
     "output_type": "execute_result"
    }
   ],
   "source": [
    "triads = nx.triadic_census(complete_graph)\n",
    "total_triads = triads['030T']+triads['030C']\n",
    "total_triads= total_triads+(2*(triads['120U']+triads['120D']+triads['120C']))\n",
    "total_triads= total_triads+(4*triads['210'])+(8*triads['300'])\n",
    "total_triads"
   ]
  },
  {
   "cell_type": "markdown",
   "metadata": {},
   "source": [
    "### For the weight of multiple edges between same two nodes, The methode above takes into account only the weight of the last edge\n",
    "\n",
    "### We implement here a method that takes all weights (a weight of multiple edges between same two nodes will be a dictionary containing all weights)"
   ]
  },
  {
   "cell_type": "code",
   "execution_count": 230,
   "metadata": {},
   "outputs": [
    {
     "data": {
      "text/html": [
       "<div>\n",
       "<style scoped>\n",
       "    .dataframe tbody tr th:only-of-type {\n",
       "        vertical-align: middle;\n",
       "    }\n",
       "\n",
       "    .dataframe tbody tr th {\n",
       "        vertical-align: top;\n",
       "    }\n",
       "\n",
       "    .dataframe thead th {\n",
       "        text-align: right;\n",
       "    }\n",
       "</style>\n",
       "<table border=\"1\" class=\"dataframe\">\n",
       "  <thead>\n",
       "    <tr style=\"text-align: right;\">\n",
       "      <th></th>\n",
       "      <th></th>\n",
       "      <th>LINK_SENTIMENT</th>\n",
       "    </tr>\n",
       "    <tr>\n",
       "      <th>SOURCE_SUBREDDIT</th>\n",
       "      <th>TARGET_SUBREDDIT</th>\n",
       "      <th></th>\n",
       "    </tr>\n",
       "  </thead>\n",
       "  <tbody>\n",
       "    <tr>\n",
       "      <td>007</td>\n",
       "      <td>daniel_craig</td>\n",
       "      <td>{0: 1}</td>\n",
       "    </tr>\n",
       "    <tr>\n",
       "      <td>07scape</td>\n",
       "      <td>osrstranscripts</td>\n",
       "      <td>{0: 1, 1: 1}</td>\n",
       "    </tr>\n",
       "    <tr>\n",
       "      <td>07thexpansion</td>\n",
       "      <td>visualnovels</td>\n",
       "      <td>{0: 1}</td>\n",
       "    </tr>\n",
       "    <tr>\n",
       "      <td>098f6bcd4621d373</td>\n",
       "      <td>askreddit</td>\n",
       "      <td>{0: 1}</td>\n",
       "    </tr>\n",
       "    <tr>\n",
       "      <td>0________0</td>\n",
       "      <td>todayilearned</td>\n",
       "      <td>{0: 1}</td>\n",
       "    </tr>\n",
       "    <tr>\n",
       "      <td>...</td>\n",
       "      <td>...</td>\n",
       "      <td>...</td>\n",
       "    </tr>\n",
       "    <tr>\n",
       "      <td>zyramains</td>\n",
       "      <td>threshmains</td>\n",
       "      <td>{0: 1}</td>\n",
       "    </tr>\n",
       "    <tr>\n",
       "      <td rowspan=\"3\" valign=\"top\">zyzz</td>\n",
       "      <td>bodybuilding</td>\n",
       "      <td>{0: 1}</td>\n",
       "    </tr>\n",
       "    <tr>\n",
       "      <td>fitness</td>\n",
       "      <td>{0: 1}</td>\n",
       "    </tr>\n",
       "    <tr>\n",
       "      <td>girlsmirin</td>\n",
       "      <td>{0: 1}</td>\n",
       "    </tr>\n",
       "    <tr>\n",
       "      <td>zzseries</td>\n",
       "      <td>toontown</td>\n",
       "      <td>{0: 1}</td>\n",
       "    </tr>\n",
       "  </tbody>\n",
       "</table>\n",
       "<p>339643 rows × 1 columns</p>\n",
       "</div>"
      ],
      "text/plain": [
       "                                  LINK_SENTIMENT\n",
       "SOURCE_SUBREDDIT TARGET_SUBREDDIT               \n",
       "007              daniel_craig             {0: 1}\n",
       "07scape          osrstranscripts    {0: 1, 1: 1}\n",
       "07thexpansion    visualnovels             {0: 1}\n",
       "098f6bcd4621d373 askreddit                {0: 1}\n",
       "0________0       todayilearned            {0: 1}\n",
       "...                                          ...\n",
       "zyramains        threshmains              {0: 1}\n",
       "zyzz             bodybuilding             {0: 1}\n",
       "                 fitness                  {0: 1}\n",
       "                 girlsmirin               {0: 1}\n",
       "zzseries         toontown                 {0: 1}\n",
       "\n",
       "[339643 rows x 1 columns]"
      ]
     },
     "execution_count": 230,
     "metadata": {},
     "output_type": "execute_result"
    }
   ],
   "source": [
    "## We groupby the data using pairs (source,target) and collect all link signs between same pair in one attribute (a dictionary)\n",
    "groupedBySource_Target_pair = Data.groupby(['SOURCE_SUBREDDIT','TARGET_SUBREDDIT']).LINK_SENTIMENT.apply(lambda x: list(x)).to_frame()\n",
    "groupedBySource_Target_pair.LINK_SENTIMENT = groupedBySource_Target_pair.LINK_SENTIMENT.apply(lambda x: dict(zip(np.arange(len(x)), x)))\n",
    "groupedBySource_Target_pair"
   ]
  },
  {
   "cell_type": "code",
   "execution_count": 290,
   "metadata": {},
   "outputs": [],
   "source": [
    "## The groupby function makes the pair (source,target) as index.\n",
    "# To construct the graph, we need to have list of all sources , targets and signs in a dataframe \n",
    "listed_source = [ elem[0] for elem in groupedBySource_Target_pair.index]\n",
    "listed_target = [ elem[1] for elem in groupedBySource_Target_pair.index]\n",
    "listed_sign = [ elem[0] for elem in groupedBySource_Target_pair.values ]\n",
    "\n",
    "data_df = pd.DataFrame({\"source\":listed_source,\"target\":listed_target,\"sign\":listed_sign})"
   ]
  },
  {
   "cell_type": "code",
   "execution_count": 291,
   "metadata": {},
   "outputs": [],
   "source": [
    "graph_dict = nx.from_pandas_edgelist(data_df,source='source', target=\"target\", edge_attr = \"sign\",create_using=nx.DiGraph)"
   ]
  },
  {
   "cell_type": "code",
   "execution_count": 292,
   "metadata": {
    "scrolled": true
   },
   "outputs": [
    {
     "name": "stdout",
     "output_type": "stream",
     "text": [
      "REDDIT:    Nodes = 67180  Edges = 339643\n"
     ]
    }
   ],
   "source": [
    "nbr_nodes_dict = graph.number_of_nodes()\n",
    "nbr_edges_dict = graph.number_of_edges()\n",
    "print(\"REDDIT:    Nodes =\",nbr_nodes_dict,\" Edges =\",nbr_edges_dict)"
   ]
  },
  {
   "cell_type": "code",
   "execution_count": 305,
   "metadata": {},
   "outputs": [],
   "source": [
    "def compute_triads(g):\n",
    "    triads = nx.triadic_census(g)\n",
    "    total_triads = triads['030T']+triads['030C']\n",
    "    total_triads= total_triads+(2*(triads['120U']+triads['120D']+triads['120C']))\n",
    "    total_triads= total_triads+(4*triads['210'])+(8*triads['300'])\n",
    "    return total_triads"
   ]
  },
  {
   "cell_type": "code",
   "execution_count": 306,
   "metadata": {},
   "outputs": [],
   "source": [
    "total_triads_dict = compute_triads(graph_dict)"
   ]
  },
  {
   "cell_type": "markdown",
   "metadata": {},
   "source": [
    "### This methode will compute the sum of weights between same two nodes and assign it as unique weight"
   ]
  },
  {
   "cell_type": "code",
   "execution_count": 259,
   "metadata": {
    "scrolled": false
   },
   "outputs": [
    {
     "data": {
      "text/html": [
       "<div>\n",
       "<style scoped>\n",
       "    .dataframe tbody tr th:only-of-type {\n",
       "        vertical-align: middle;\n",
       "    }\n",
       "\n",
       "    .dataframe tbody tr th {\n",
       "        vertical-align: top;\n",
       "    }\n",
       "\n",
       "    .dataframe thead th {\n",
       "        text-align: right;\n",
       "    }\n",
       "</style>\n",
       "<table border=\"1\" class=\"dataframe\">\n",
       "  <thead>\n",
       "    <tr style=\"text-align: right;\">\n",
       "      <th></th>\n",
       "      <th></th>\n",
       "      <th>LINK_SENTIMENT</th>\n",
       "    </tr>\n",
       "    <tr>\n",
       "      <th>SOURCE_SUBREDDIT</th>\n",
       "      <th>TARGET_SUBREDDIT</th>\n",
       "      <th></th>\n",
       "    </tr>\n",
       "  </thead>\n",
       "  <tbody>\n",
       "    <tr>\n",
       "      <td>007</td>\n",
       "      <td>daniel_craig</td>\n",
       "      <td>1</td>\n",
       "    </tr>\n",
       "    <tr>\n",
       "      <td>07scape</td>\n",
       "      <td>osrstranscripts</td>\n",
       "      <td>2</td>\n",
       "    </tr>\n",
       "    <tr>\n",
       "      <td>07thexpansion</td>\n",
       "      <td>visualnovels</td>\n",
       "      <td>1</td>\n",
       "    </tr>\n",
       "    <tr>\n",
       "      <td>098f6bcd4621d373</td>\n",
       "      <td>askreddit</td>\n",
       "      <td>1</td>\n",
       "    </tr>\n",
       "    <tr>\n",
       "      <td>0________0</td>\n",
       "      <td>todayilearned</td>\n",
       "      <td>1</td>\n",
       "    </tr>\n",
       "    <tr>\n",
       "      <td>...</td>\n",
       "      <td>...</td>\n",
       "      <td>...</td>\n",
       "    </tr>\n",
       "    <tr>\n",
       "      <td>zyramains</td>\n",
       "      <td>threshmains</td>\n",
       "      <td>1</td>\n",
       "    </tr>\n",
       "    <tr>\n",
       "      <td rowspan=\"3\" valign=\"top\">zyzz</td>\n",
       "      <td>bodybuilding</td>\n",
       "      <td>1</td>\n",
       "    </tr>\n",
       "    <tr>\n",
       "      <td>fitness</td>\n",
       "      <td>1</td>\n",
       "    </tr>\n",
       "    <tr>\n",
       "      <td>girlsmirin</td>\n",
       "      <td>1</td>\n",
       "    </tr>\n",
       "    <tr>\n",
       "      <td>zzseries</td>\n",
       "      <td>toontown</td>\n",
       "      <td>1</td>\n",
       "    </tr>\n",
       "  </tbody>\n",
       "</table>\n",
       "<p>339643 rows × 1 columns</p>\n",
       "</div>"
      ],
      "text/plain": [
       "                                   LINK_SENTIMENT\n",
       "SOURCE_SUBREDDIT TARGET_SUBREDDIT                \n",
       "007              daniel_craig                   1\n",
       "07scape          osrstranscripts                2\n",
       "07thexpansion    visualnovels                   1\n",
       "098f6bcd4621d373 askreddit                      1\n",
       "0________0       todayilearned                  1\n",
       "...                                           ...\n",
       "zyramains        threshmains                    1\n",
       "zyzz             bodybuilding                   1\n",
       "                 fitness                        1\n",
       "                 girlsmirin                     1\n",
       "zzseries         toontown                       1\n",
       "\n",
       "[339643 rows x 1 columns]"
      ]
     },
     "execution_count": 259,
     "metadata": {},
     "output_type": "execute_result"
    }
   ],
   "source": [
    "## Here we group by (source,target) but instead of keeping all weights, we sum them into one weight\n",
    "groupedBySource_Target_summed = Data.groupby(['SOURCE_SUBREDDIT','TARGET_SUBREDDIT']).LINK_SENTIMENT.apply(lambda x: sum(x)).to_frame()\n",
    "groupedBySource_Target_summed"
   ]
  },
  {
   "cell_type": "code",
   "execution_count": 311,
   "metadata": {},
   "outputs": [
    {
     "data": {
      "text/plain": [
       "array([  1,   2,   5,  39,   8,   6,   7,   3,  -1,   4,  21,   0,  22,\n",
       "        54,  11,   9,  12,  25,  62, 103,  14,  15,  50, 105,  13,  10,\n",
       "        56,  16,  19,  65,  33,  -2,  75,  49,  31,  17,  58,  69,  81,\n",
       "        36,  26,  23,  24,  34,  18,  41,  47, 187,  53,  38,  -3,  29,\n",
       "        -4,  40,  20,  -6,  -8,  89,  35,  48,  27,  64,  28,  59,  30,\n",
       "        32,  37,  71,  52,  72,  61, 172,  63, -22,  -7,  43, 160,  94,\n",
       "        46,  51,  44,  42, 114,  60,  98,  -5,  45,  70, 210,  83, 223,\n",
       "        55,  99, 113, 106, 116, 158,  93, 119, 194,  90,  77, 117, 138,\n",
       "       208, 147, 135, 140,  67, 118,  76,  66,  68, 165, 154, 108,  91,\n",
       "       127,  80,  74, 125, 112,  87, 142, 133, 120,  79, 121, 206, 175,\n",
       "        85, 159, 124,  92, 149,  73, 243, 134, 146, 168,  84, 107,  57,\n",
       "        86,  82,  96, 109, 104,  78, 129, 150, 130, 144, 128,  88, 161,\n",
       "        -9, 137, 151, 157, -15, -13, 179, 155, 101, 211, 139,  95, 215,\n",
       "       110, 180, 299,  97, 100, 164, 184, 220, 181, -25, 166, 174, 176,\n",
       "       123, 478, 136, 296, 126, 111, 102, 131, -10, 143, 115, 199, 217,\n",
       "       177, 188, 145, 153, 202, -12, 212, 152, 195, 207, 218, 236, 169,\n",
       "       178, 279, 162, 171, 548], dtype=int64)"
      ]
     },
     "execution_count": 311,
     "metadata": {},
     "output_type": "execute_result"
    }
   ],
   "source": [
    "groupedBySource_Target_summed.LINK_SENTIMENT.unique()"
   ]
  },
  {
   "cell_type": "code",
   "execution_count": 283,
   "metadata": {},
   "outputs": [],
   "source": [
    "## The groupby function makes the pair (source,target) as index.\n",
    "# To construct the graph, we need to have list of all sources , targets and signs in a dataframe \n",
    "listed_source = [ elem[0] for elem in groupedBySource_Target_summed.index]\n",
    "listed_target = [ elem[1] for elem in groupedBySource_Target_summed.index]\n",
    "listed_sign = [ elem[0] for elem in groupedBySource_Target_summed.values ]\n",
    "\n",
    "data_summed = pd.DataFrame({\"source\":listed_source,\"target\":listed_target,\"sign\":listed_sign})"
   ]
  },
  {
   "cell_type": "code",
   "execution_count": 284,
   "metadata": {},
   "outputs": [],
   "source": [
    "graph_summed = nx.from_pandas_edgelist(data_summed,source='source', target=\"target\", edge_attr = \"sign\",create_using=nx.DiGraph)"
   ]
  },
  {
   "cell_type": "code",
   "execution_count": 295,
   "metadata": {},
   "outputs": [
    {
     "name": "stdout",
     "output_type": "stream",
     "text": [
      "REDDIT:    Nodes = 67180  Edges = 339643\n",
      "REDDIT : Pourcentage of (+)edges is 92.6% and pourcentage of (-)edges is 5.7%\n"
     ]
    }
   ],
   "source": [
    "nbr_nodes_summed = graph_summed.number_of_nodes()\n",
    "nbr_edges_summed = graph_summed.number_of_edges()\n",
    "print(\"REDDIT:    Nodes =\",nbr_nodes,\" Edges =\",nbr_edges)\n",
    "\n",
    "\n",
    "sum_of_pos_summed = sum(1 if w[\"sign\"]>0 else 0 for (_,_,w) in graph_summed.edges(data=True))\n",
    "sum_of_neg_summed = sum(1 if w[\"sign\"]<0 else 0 for (_,_,w) in graph_summed.edges(data=True))\n",
    "pourc_of_pos_summed = round(100 *sum_of_pos_summed/nbr_edges_summed,1)\n",
    "pourc_of_neg_summed = round(100 *sum_of_neg_summed/nbr_edges_summed,1)\n",
    "print(\"REDDIT : Pourcentage of (+)edges is {pos}% and pourcentage of (-)edges is {neg}%\".format(pos = pourc_of_pos_summed, neg= pourc_of_neg_summed))"
   ]
  },
  {
   "cell_type": "code",
   "execution_count": 307,
   "metadata": {},
   "outputs": [],
   "source": [
    "total_triads_summed = compute_triads(graph_summed)"
   ]
  },
  {
   "cell_type": "markdown",
   "metadata": {},
   "source": [
    "### This methode will compute the mean of the weights"
   ]
  },
  {
   "cell_type": "code",
   "execution_count": 287,
   "metadata": {},
   "outputs": [
    {
     "data": {
      "text/html": [
       "<div>\n",
       "<style scoped>\n",
       "    .dataframe tbody tr th:only-of-type {\n",
       "        vertical-align: middle;\n",
       "    }\n",
       "\n",
       "    .dataframe tbody tr th {\n",
       "        vertical-align: top;\n",
       "    }\n",
       "\n",
       "    .dataframe thead th {\n",
       "        text-align: right;\n",
       "    }\n",
       "</style>\n",
       "<table border=\"1\" class=\"dataframe\">\n",
       "  <thead>\n",
       "    <tr style=\"text-align: right;\">\n",
       "      <th></th>\n",
       "      <th></th>\n",
       "      <th>LINK_SENTIMENT</th>\n",
       "    </tr>\n",
       "    <tr>\n",
       "      <th>SOURCE_SUBREDDIT</th>\n",
       "      <th>TARGET_SUBREDDIT</th>\n",
       "      <th></th>\n",
       "    </tr>\n",
       "  </thead>\n",
       "  <tbody>\n",
       "    <tr>\n",
       "      <td>007</td>\n",
       "      <td>daniel_craig</td>\n",
       "      <td>1.0</td>\n",
       "    </tr>\n",
       "    <tr>\n",
       "      <td>07scape</td>\n",
       "      <td>osrstranscripts</td>\n",
       "      <td>1.0</td>\n",
       "    </tr>\n",
       "    <tr>\n",
       "      <td>07thexpansion</td>\n",
       "      <td>visualnovels</td>\n",
       "      <td>1.0</td>\n",
       "    </tr>\n",
       "    <tr>\n",
       "      <td>098f6bcd4621d373</td>\n",
       "      <td>askreddit</td>\n",
       "      <td>1.0</td>\n",
       "    </tr>\n",
       "    <tr>\n",
       "      <td>0________0</td>\n",
       "      <td>todayilearned</td>\n",
       "      <td>1.0</td>\n",
       "    </tr>\n",
       "    <tr>\n",
       "      <td>...</td>\n",
       "      <td>...</td>\n",
       "      <td>...</td>\n",
       "    </tr>\n",
       "    <tr>\n",
       "      <td>zyramains</td>\n",
       "      <td>threshmains</td>\n",
       "      <td>1.0</td>\n",
       "    </tr>\n",
       "    <tr>\n",
       "      <td rowspan=\"3\" valign=\"top\">zyzz</td>\n",
       "      <td>bodybuilding</td>\n",
       "      <td>1.0</td>\n",
       "    </tr>\n",
       "    <tr>\n",
       "      <td>fitness</td>\n",
       "      <td>1.0</td>\n",
       "    </tr>\n",
       "    <tr>\n",
       "      <td>girlsmirin</td>\n",
       "      <td>1.0</td>\n",
       "    </tr>\n",
       "    <tr>\n",
       "      <td>zzseries</td>\n",
       "      <td>toontown</td>\n",
       "      <td>1.0</td>\n",
       "    </tr>\n",
       "  </tbody>\n",
       "</table>\n",
       "<p>339643 rows × 1 columns</p>\n",
       "</div>"
      ],
      "text/plain": [
       "                                   LINK_SENTIMENT\n",
       "SOURCE_SUBREDDIT TARGET_SUBREDDIT                \n",
       "007              daniel_craig                 1.0\n",
       "07scape          osrstranscripts              1.0\n",
       "07thexpansion    visualnovels                 1.0\n",
       "098f6bcd4621d373 askreddit                    1.0\n",
       "0________0       todayilearned                1.0\n",
       "...                                           ...\n",
       "zyramains        threshmains                  1.0\n",
       "zyzz             bodybuilding                 1.0\n",
       "                 fitness                      1.0\n",
       "                 girlsmirin                   1.0\n",
       "zzseries         toontown                     1.0\n",
       "\n",
       "[339643 rows x 1 columns]"
      ]
     },
     "execution_count": 287,
     "metadata": {},
     "output_type": "execute_result"
    }
   ],
   "source": [
    "## Here we group by (source,target) but instead of keeping all weights, we sum them into one weight\n",
    "groupedBySource_Target_mean = Data.groupby(['SOURCE_SUBREDDIT','TARGET_SUBREDDIT']).LINK_SENTIMENT.apply(lambda x: np.mean(x)).to_frame()\n",
    "groupedBySource_Target_mean"
   ]
  },
  {
   "cell_type": "code",
   "execution_count": 304,
   "metadata": {},
   "outputs": [
    {
     "data": {
      "text/plain": [
       "array([1.        , 0.33333333, 0.5       , ..., 0.61643836, 0.43820225,\n",
       "       0.96039604])"
      ]
     },
     "execution_count": 304,
     "metadata": {},
     "output_type": "execute_result"
    }
   ],
   "source": [
    "groupedBySource_Target_mean.LINK_SENTIMENT.unique()"
   ]
  },
  {
   "cell_type": "code",
   "execution_count": 288,
   "metadata": {},
   "outputs": [],
   "source": [
    "## The groupby function makes the pair (source,target) as index.\n",
    "# To construct the graph, we need to have list of all sources , targets and signs in a dataframe \n",
    "listed_source = [ elem[0] for elem in groupedBySource_Target_mean.index]\n",
    "listed_target = [ elem[1] for elem in groupedBySource_Target_mean.index]\n",
    "listed_sign = [ elem[0] for elem in groupedBySource_Target_mean.values ]\n",
    "\n",
    "data_mean = pd.DataFrame({\"source\":listed_source,\"target\":listed_target,\"sign\":listed_sign})\n",
    "\n",
    "graph_mean = nx.from_pandas_edgelist(data_mean,source='source', target=\"target\", edge_attr = \"sign\",create_using=nx.DiGraph)"
   ]
  },
  {
   "cell_type": "code",
   "execution_count": 296,
   "metadata": {},
   "outputs": [
    {
     "name": "stdout",
     "output_type": "stream",
     "text": [
      "REDDIT:    Nodes = 67180  Edges = 339643\n",
      "REDDIT : Pourcentage of (+)edges is 92.6% and pourcentage of (-)edges is 5.7%\n"
     ]
    }
   ],
   "source": [
    "nbr_nodes_mean = graph_mean.number_of_nodes()\n",
    "nbr_edges_mean = graph_mean.number_of_edges()\n",
    "print(\"REDDIT:    Nodes =\",nbr_nodes,\" Edges =\",nbr_edges)\n",
    "\n",
    "\n",
    "sum_of_pos_mean = sum(1 if w[\"sign\"]>0 else 0 for (_,_,w) in graph_mean.edges(data=True))\n",
    "sum_of_neg_mean = sum(1 if w[\"sign\"]<0 else 0 for (_,_,w) in graph_mean.edges(data=True))\n",
    "pourc_of_pos_mean = round(100 *sum_of_pos_mean/nbr_edges_mean,1)\n",
    "pourc_of_neg_mean = round(100 *sum_of_neg_mean/nbr_edges_mean,1)\n",
    "print(\"REDDIT : Pourcentage of (+)edges is {pos}% and pourcentage of (-)edges is {neg}%\".format(pos = pourc_of_pos_mean, neg= pourc_of_neg_mean))"
   ]
  },
  {
   "cell_type": "code",
   "execution_count": 308,
   "metadata": {},
   "outputs": [],
   "source": [
    "total_triads_mean = compute_triads(graph_mean)"
   ]
  },
  {
   "cell_type": "code",
   "execution_count": 309,
   "metadata": {},
   "outputs": [
    {
     "data": {
      "text/html": [
       "<div>\n",
       "<style scoped>\n",
       "    .dataframe tbody tr th:only-of-type {\n",
       "        vertical-align: middle;\n",
       "    }\n",
       "\n",
       "    .dataframe tbody tr th {\n",
       "        vertical-align: top;\n",
       "    }\n",
       "\n",
       "    .dataframe thead th {\n",
       "        text-align: right;\n",
       "    }\n",
       "</style>\n",
       "<table border=\"1\" class=\"dataframe\">\n",
       "  <thead>\n",
       "    <tr style=\"text-align: right;\">\n",
       "      <th></th>\n",
       "      <th>Dictionary weights</th>\n",
       "      <th>Summed_weights</th>\n",
       "      <th>mean_weights</th>\n",
       "    </tr>\n",
       "  </thead>\n",
       "  <tbody>\n",
       "    <tr>\n",
       "      <td>Nodes</td>\n",
       "      <td>67,180</td>\n",
       "      <td>67,180</td>\n",
       "      <td>67,180</td>\n",
       "    </tr>\n",
       "    <tr>\n",
       "      <td>Edges</td>\n",
       "      <td>339,643</td>\n",
       "      <td>339,643</td>\n",
       "      <td>339,643</td>\n",
       "    </tr>\n",
       "    <tr>\n",
       "      <td>+ edges</td>\n",
       "      <td>None%</td>\n",
       "      <td>92.6%</td>\n",
       "      <td>92.6%</td>\n",
       "    </tr>\n",
       "    <tr>\n",
       "      <td>- edges</td>\n",
       "      <td>None%</td>\n",
       "      <td>5.7%</td>\n",
       "      <td>5.7%</td>\n",
       "    </tr>\n",
       "    <tr>\n",
       "      <td>Triads</td>\n",
       "      <td>4,077,337</td>\n",
       "      <td>4,077,337</td>\n",
       "      <td>4,077,337</td>\n",
       "    </tr>\n",
       "  </tbody>\n",
       "</table>\n",
       "</div>"
      ],
      "text/plain": [
       "        Dictionary weights Summed_weights mean_weights\n",
       "Nodes               67,180         67,180       67,180\n",
       "Edges              339,643        339,643      339,643\n",
       "+ edges              None%          92.6%        92.6%\n",
       "- edges              None%           5.7%         5.7%\n",
       "Triads           4,077,337      4,077,337    4,077,337"
      ]
     },
     "execution_count": 309,
     "metadata": {},
     "output_type": "execute_result"
    }
   ],
   "source": [
    "output_df = pd.DataFrame(columns=[\"Dictionary weights\",\"Summed_weights\",\"mean_weights\"])\n",
    "output_df=output_df.append(pd.DataFrame([[\"{:,}\".format(nbr_nodes_dict),\"{:,}\".format(nbr_nodes_summed),\"{:,}\".format(nbr_nodes_mean)]],columns=[\"Dictionary weights\",\"Summed_weights\",\"mean_weights\"],index= {\"Nodes\"}))\n",
    "output_df=output_df.append(pd.DataFrame([[\"{:,}\".format(nbr_edges_dict),\"{:,}\".format(nbr_edges_summed),\"{:,}\".format(nbr_edges_mean)]],columns=[\"Dictionary weights\",\"Summed_weights\",\"mean_weights\"],index= {\"Edges\"}))\n",
    "output_df=output_df.append(pd.DataFrame([[str(None)+'%',str(pourc_of_pos_summed)+'%',str(pourc_of_pos_mean)+'%']],columns=[\"Dictionary weights\",\"Summed_weights\",\"mean_weights\"],index={\"+ edges\"}))\n",
    "output_df=output_df.append(pd.DataFrame([[str(None)+'%',str(pourc_of_neg_summed)+\"%\",str(pourc_of_neg_mean)+'%']],columns=[\"Dictionary weights\",\"Summed_weights\",\"mean_weights\"],index={\"- edges\"}))\n",
    "output_df=output_df.append(pd.DataFrame([[\"{:,}\".format(total_triads_dict),\"{:,}\".format(total_triads_summed),\"{:,}\".format(total_triads_mean)]],columns=[\"Dictionary weights\",\"Summed_weights\",\"mean_weights\"],index={\"Triads\"}))\n",
    "output_df"
   ]
  },
  {
   "cell_type": "code",
   "execution_count": 315,
   "metadata": {},
   "outputs": [],
   "source": [
    "Graph = nx.from_pandas_edgelist(Data,source='SOURCE_SUBREDDIT', target=\"TARGET_SUBREDDIT\", edge_attr = \"LINK_SENTIMENT\",create_using=nx.MultiDiGraph)"
   ]
  },
  {
   "cell_type": "code",
   "execution_count": 316,
   "metadata": {},
   "outputs": [
    {
     "data": {
      "text/plain": [
       "858488"
      ]
     },
     "execution_count": 316,
     "metadata": {},
     "output_type": "execute_result"
    }
   ],
   "source": [
    "len(Graph.edges())"
   ]
  },
  {
   "cell_type": "code",
   "execution_count": 317,
   "metadata": {},
   "outputs": [],
   "source": [
    "total_triads_ = compute_triads(Graph)"
   ]
  },
  {
   "cell_type": "code",
   "execution_count": 319,
   "metadata": {},
   "outputs": [
    {
     "data": {
      "text/plain": [
       "4077337"
      ]
     },
     "execution_count": 319,
     "metadata": {},
     "output_type": "execute_result"
    }
   ],
   "source": [
    "total_triads"
   ]
  },
  {
   "cell_type": "code",
   "execution_count": null,
   "metadata": {},
   "outputs": [],
   "source": []
  }
 ],
 "metadata": {
  "kernelspec": {
   "display_name": "Python 3",
   "language": "python",
   "name": "python3"
  },
  "language_info": {
   "codemirror_mode": {
    "name": "ipython",
    "version": 3
   },
   "file_extension": ".py",
   "mimetype": "text/x-python",
   "name": "python",
   "nbconvert_exporter": "python",
   "pygments_lexer": "ipython3",
   "version": "3.7.4"
  }
 },
 "nbformat": 4,
 "nbformat_minor": 4
}
