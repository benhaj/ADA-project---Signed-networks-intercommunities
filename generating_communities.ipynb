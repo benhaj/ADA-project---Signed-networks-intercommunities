{
 "cells": [
  {
   "cell_type": "code",
   "execution_count": 1,
   "metadata": {},
   "outputs": [],
   "source": [
    "def create_df_wikipedia():\n",
    "    file = open(\"wikiElec.ElecBs3.txt\",\"r\",encoding=\"ANSI\")\n",
    "    lines = file.readlines()\n",
    "    ## Split file on \\n (to seperate elections)\n",
    "    split_idxs = [idx for idx, val in enumerate(lines) if val == '\\n']\n",
    "    election_lines = []\n",
    "    from_index = 0\n",
    "    for index in split_idxs:\n",
    "        election_lines.append(lines[from_index:index+1])\n",
    "        from_index=index\n",
    "    ## OMMIT THE RULE FROM THE FIRST ELECTION_LINES \n",
    "    election_lines[0] = election_lines[0][6:]\n",
    "\n",
    "    ## create the wikipedia_df by appending all election dataframes\n",
    "    wikipedia_df = pd.DataFrame(columns=[\"from_node\",\"to_node\",\"sign\"])\n",
    "    for i in range(len(election_lines)):\n",
    "        new_df = create_df_initiated_vote(election_lines[i])\n",
    "        wikipedia_df=wikipedia_df.append(new_df, ignore_index=True)\n",
    "    wikipedia_df = wikipedia_df[wikipedia_df.sign != 0]\n",
    "    wikipedia_df.sort_values(by=[\"from_node\", \"to_node\"]).reset_index(drop=True)\n",
    "    return wikipedia_df\n",
    "\n",
    "## function for wikipedia dataset to parse an election and create a seperate df for each one\n",
    "def create_df_initiated_vote(election_lines):\n",
    "    df_list = []\n",
    "    for line in election_lines:\n",
    "        if (line[0]=='U'):\n",
    "            ints = [int(s) for s in line.split() if s.lstrip('-').isdigit()]\n",
    "            to_node = ints[0]\n",
    "        if (line[0]=='V'):\n",
    "            ints = [int(s) for s in line.split() if s.lstrip('-').isdigit()]\n",
    "            from_node= ints[1]\n",
    "            sign = ints[0]\n",
    "            df_list.append([from_node,to_node,sign])\n",
    "    df = pd.DataFrame(df_list,columns=[\"from_node\",\"to_node\",\"sign\"])\n",
    "    return df"
   ]
  },
  {
   "cell_type": "code",
   "execution_count": 2,
   "metadata": {},
   "outputs": [],
   "source": [
    "import pandas as pd\n",
    "import numpy as np\n",
    "import networkx as nx"
   ]
  },
  {
   "cell_type": "code",
   "execution_count": 3,
   "metadata": {},
   "outputs": [],
   "source": [
    "def load_data_create_graph(path):\n",
    "    if path!=\"wikiElec.ElecBs3.txt\":\n",
    "        dataset = np.loadtxt(path)\n",
    "        dataset=dataset.astype(\"int64\")\n",
    "        df = pd.DataFrame(dataset,columns=['from_node','to_node','sign'])\n",
    "        graph = nx.from_pandas_edgelist(df, \"from_node\", \"to_node\", \"sign\",create_using=nx.DiGraph)\n",
    "    else:\n",
    "        graph = nx.from_pandas_edgelist(create_df_wikipedia(), \"from_node\", \"to_node\", \"sign\" ,create_using=nx.DiGraph)\n",
    "    return graph"
   ]
  },
  {
   "cell_type": "code",
   "execution_count": 4,
   "metadata": {},
   "outputs": [],
   "source": [
    "wiki_graph = load_data_create_graph(\"wikiElec.ElecBs3.txt\")"
   ]
  },
  {
   "cell_type": "code",
   "execution_count": 19,
   "metadata": {},
   "outputs": [],
   "source": [
    "a = set((1,2))"
   ]
  },
  {
   "cell_type": "code",
   "execution_count": 22,
   "metadata": {},
   "outputs": [],
   "source": [
    "a.remove(3)"
   ]
  },
  {
   "cell_type": "code",
   "execution_count": 25,
   "metadata": {},
   "outputs": [
    {
     "data": {
      "text/plain": [
       "2"
      ]
     },
     "execution_count": 25,
     "metadata": {},
     "output_type": "execute_result"
    }
   ],
   "source": [
    "len(a)"
   ]
  },
  {
   "cell_type": "code",
   "execution_count": 192,
   "metadata": {},
   "outputs": [],
   "source": [
    "def compute_BwC(G,node,Community,k_node):\n",
    "    sum_w = 0\n",
    "    for w in Community:\n",
    "        if G.has_edge(node,w):\n",
    "            sum_w+=G[node][w]['sign']\n",
    "        elif G.has_edge(w,node):\n",
    "            sum_w+=G[w][node]['sign']\n",
    "        else:\n",
    "            continue\n",
    "    if k_node!=0 :return sum_w/k_node\n",
    "    else: return sum_w/1\n",
    "    "
   ]
  },
  {
   "cell_type": "code",
   "execution_count": 193,
   "metadata": {},
   "outputs": [],
   "source": [
    "from networkx.algorithms.cuts import cut_size\n"
   ]
  },
  {
   "cell_type": "code",
   "execution_count": 194,
   "metadata": {},
   "outputs": [],
   "source": [
    "#\n",
    "def compute_sigma(G,Community,weight_sum_community):\n",
    "    cut = cut_size(G,Community,set(G.nodes())-Community,'sign')\n",
    "    return cut/weight_sum_community"
   ]
  },
  {
   "cell_type": "code",
   "execution_count": 195,
   "metadata": {},
   "outputs": [],
   "source": [
    "def compute_sum_weights(G,Community,weight_c,selected_node):\n",
    "    summed = weight_c\n",
    "    for node in Community:\n",
    "        if G.has_edge(selected_node,node):\n",
    "            summed+=G[selected_node][node]['sign']\n",
    "        if G.has_edge(node,selected_node):\n",
    "            summed+=G[node][selected_node]['sign']\n",
    "    return summed"
   ]
  },
  {
   "cell_type": "code",
   "execution_count": 209,
   "metadata": {},
   "outputs": [],
   "source": [
    "def detection_algorithm(G):\n",
    "    E = set(G.edges())\n",
    "    C_set = set()\n",
    "    \n",
    "    pos_edges = [e for e in E if G[e[0]][e[1]]['sign'] == 1]\n",
    "    neg_edges = [e for e in E if G[e[0]][e[1]]['sign'] == -1]\n",
    "    weight_c = 0\n",
    "    while len(E)!= 0:\n",
    "        print(80*'=')\n",
    "        print('len(E)=',len(E))\n",
    "        print(80*'=')\n",
    "        if (len(pos_edges)!=0) : e=pos_edges.pop(-1)\n",
    "        else: e=neg_edges.pop(-1)\n",
    "        C = set()\n",
    "        C.add(e[0])\n",
    "        C.add(e[1])\n",
    "        weight_c+=G[e[0]][e[1]]['sign']\n",
    "        Nc=set()\n",
    "        for v in C:\n",
    "            Nc=Nc | set(G.neighbors(v))\n",
    "        print(len(Nc))\n",
    "        while len(Nc)!=0:\n",
    "            if len(Nc)%10 == 0 : print('len(Nc) =',len(Nc))\n",
    "            nodes=[]\n",
    "            values=[]\n",
    "            for n in C:\n",
    "                k_node=0\n",
    "                neighbors = [node for node in G if G.has_edge(node,n) and node not in C]\n",
    "                for elem in neighbors:\n",
    "                    if G.has_edge(elem,n):\n",
    "                        k_node+=G[elem][n]['sign']\n",
    "                    else: #G.has_edge(n,elem): \n",
    "                        k_node+=G[n][elem]['sign']\n",
    "                    nodes.append(elem)\n",
    "                    values.append(compute_BwC(G,elem,C,k_node))\n",
    "            selected_node = nodes[np.argmax(values)]\n",
    "            Nc=Nc- {selected_node}\n",
    "            C1 = C | {selected_node}\n",
    "            sigma_C1 = compute_sigma(G,C1,compute_sum_weights(G,C1,weight_c,selected_node))\n",
    "            sigma_C = compute_sigma(G,C,weight_c)\n",
    "            if sigma_C1<sigma_C :\n",
    "                C=C1\n",
    "            else: \n",
    "                break\n",
    "        E = E - set(G.subgraph(C).edges())\n",
    "        C_set = C_set | C\n",
    "    return C_set"
   ]
  },
  {
   "cell_type": "code",
   "execution_count": 210,
   "metadata": {},
   "outputs": [
    {
     "name": "stdout",
     "output_type": "stream",
     "text": [
      "================================================================================\n",
      "len(E)= 103747\n",
      "================================================================================\n",
      "439\n",
      "len(Nc) = 430\n",
      "len(Nc) = 430\n",
      "len(Nc) = 430\n",
      "len(Nc) = 430\n",
      "len(Nc) = 430\n",
      "len(Nc) = 430\n",
      "len(Nc) = 430\n",
      "len(Nc) = 430\n",
      "len(Nc) = 430\n",
      "len(Nc) = 430\n",
      "len(Nc) = 420\n",
      "len(Nc) = 420\n",
      "len(Nc) = 410\n",
      "len(Nc) = 410\n",
      "len(Nc) = 410\n",
      "len(Nc) = 410\n",
      "len(Nc) = 410\n",
      "len(Nc) = 410\n",
      "len(Nc) = 410\n",
      "len(Nc) = 410\n",
      "len(Nc) = 400\n",
      "len(Nc) = 390\n",
      "len(Nc) = 390\n",
      "len(Nc) = 390\n",
      "len(Nc) = 380\n",
      "len(Nc) = 380\n",
      "len(Nc) = 380\n",
      "len(Nc) = 380\n",
      "len(Nc) = 370\n",
      "len(Nc) = 360\n",
      "len(Nc) = 360\n",
      "len(Nc) = 350\n",
      "len(Nc) = 350\n",
      "len(Nc) = 340\n",
      "len(Nc) = 330\n",
      "len(Nc) = 320\n",
      "len(Nc) = 310\n",
      "len(Nc) = 310\n",
      "len(Nc) = 310\n",
      "len(Nc) = 310\n",
      "len(Nc) = 300\n",
      "len(Nc) = 300\n",
      "len(Nc) = 300\n",
      "len(Nc) = 290\n",
      "len(Nc) = 290\n",
      "len(Nc) = 290\n",
      "len(Nc) = 280\n",
      "len(Nc) = 280\n",
      "len(Nc) = 280\n",
      "len(Nc) = 280\n",
      "len(Nc) = 280\n",
      "len(Nc) = 280\n",
      "len(Nc) = 280\n",
      "len(Nc) = 280\n",
      "len(Nc) = 280\n",
      "len(Nc) = 280\n",
      "len(Nc) = 270\n",
      "len(Nc) = 270\n",
      "len(Nc) = 270\n",
      "len(Nc) = 270\n",
      "len(Nc) = 260\n",
      "len(Nc) = 260\n",
      "len(Nc) = 250\n",
      "len(Nc) = 250\n",
      "len(Nc) = 250\n",
      "len(Nc) = 250\n",
      "len(Nc) = 250\n",
      "len(Nc) = 240\n",
      "len(Nc) = 240\n",
      "len(Nc) = 230\n",
      "len(Nc) = 230\n",
      "len(Nc) = 230\n",
      "len(Nc) = 230\n",
      "len(Nc) = 230\n",
      "len(Nc) = 230\n",
      "len(Nc) = 230\n",
      "len(Nc) = 230\n",
      "len(Nc) = 230\n",
      "len(Nc) = 230\n",
      "len(Nc) = 230\n",
      "len(Nc) = 230\n",
      "len(Nc) = 220\n",
      "len(Nc) = 220\n",
      "len(Nc) = 220\n",
      "len(Nc) = 220\n",
      "len(Nc) = 220\n",
      "len(Nc) = 220\n",
      "len(Nc) = 220\n"
     ]
    },
    {
     "ename": "KeyboardInterrupt",
     "evalue": "",
     "output_type": "error",
     "traceback": [
      "\u001b[1;31m---------------------------------------------------------------------------\u001b[0m",
      "\u001b[1;31mKeyboardInterrupt\u001b[0m                         Traceback (most recent call last)",
      "\u001b[1;32m<ipython-input-210-5ae98d16145e>\u001b[0m in \u001b[0;36m<module>\u001b[1;34m()\u001b[0m\n\u001b[1;32m----> 1\u001b[1;33m \u001b[0mcommunities_set_wiki\u001b[0m \u001b[1;33m=\u001b[0m \u001b[0mdetection_algorithm\u001b[0m\u001b[1;33m(\u001b[0m\u001b[0mwiki_graph\u001b[0m\u001b[1;33m)\u001b[0m\u001b[1;33m\u001b[0m\u001b[1;33m\u001b[0m\u001b[0m\n\u001b[0m",
      "\u001b[1;32m<ipython-input-209-48caa2183469>\u001b[0m in \u001b[0;36mdetection_algorithm\u001b[1;34m(G)\u001b[0m\n\u001b[0;32m     33\u001b[0m                         \u001b[0mk_node\u001b[0m\u001b[1;33m+=\u001b[0m\u001b[0mG\u001b[0m\u001b[1;33m[\u001b[0m\u001b[0mn\u001b[0m\u001b[1;33m]\u001b[0m\u001b[1;33m[\u001b[0m\u001b[0melem\u001b[0m\u001b[1;33m]\u001b[0m\u001b[1;33m[\u001b[0m\u001b[1;34m'sign'\u001b[0m\u001b[1;33m]\u001b[0m\u001b[1;33m\u001b[0m\u001b[1;33m\u001b[0m\u001b[0m\n\u001b[0;32m     34\u001b[0m                     \u001b[0mnodes\u001b[0m\u001b[1;33m.\u001b[0m\u001b[0mappend\u001b[0m\u001b[1;33m(\u001b[0m\u001b[0melem\u001b[0m\u001b[1;33m)\u001b[0m\u001b[1;33m\u001b[0m\u001b[1;33m\u001b[0m\u001b[0m\n\u001b[1;32m---> 35\u001b[1;33m                     \u001b[0mvalues\u001b[0m\u001b[1;33m.\u001b[0m\u001b[0mappend\u001b[0m\u001b[1;33m(\u001b[0m\u001b[0mcompute_BwC\u001b[0m\u001b[1;33m(\u001b[0m\u001b[0mG\u001b[0m\u001b[1;33m,\u001b[0m\u001b[0melem\u001b[0m\u001b[1;33m,\u001b[0m\u001b[0mC\u001b[0m\u001b[1;33m,\u001b[0m\u001b[0mk_node\u001b[0m\u001b[1;33m)\u001b[0m\u001b[1;33m)\u001b[0m\u001b[1;33m\u001b[0m\u001b[1;33m\u001b[0m\u001b[0m\n\u001b[0m\u001b[0;32m     36\u001b[0m             \u001b[0mselected_node\u001b[0m \u001b[1;33m=\u001b[0m \u001b[0mnodes\u001b[0m\u001b[1;33m[\u001b[0m\u001b[0mnp\u001b[0m\u001b[1;33m.\u001b[0m\u001b[0margmax\u001b[0m\u001b[1;33m(\u001b[0m\u001b[0mvalues\u001b[0m\u001b[1;33m)\u001b[0m\u001b[1;33m]\u001b[0m\u001b[1;33m\u001b[0m\u001b[1;33m\u001b[0m\u001b[0m\n\u001b[0;32m     37\u001b[0m             \u001b[0mNc\u001b[0m\u001b[1;33m=\u001b[0m\u001b[0mNc\u001b[0m\u001b[1;33m-\u001b[0m \u001b[1;33m{\u001b[0m\u001b[0mselected_node\u001b[0m\u001b[1;33m}\u001b[0m\u001b[1;33m\u001b[0m\u001b[1;33m\u001b[0m\u001b[0m\n",
      "\u001b[1;32m<ipython-input-192-6e0837ac0415>\u001b[0m in \u001b[0;36mcompute_BwC\u001b[1;34m(G, node, Community, k_node)\u001b[0m\n\u001b[0;32m      4\u001b[0m         \u001b[1;32mif\u001b[0m \u001b[0mG\u001b[0m\u001b[1;33m.\u001b[0m\u001b[0mhas_edge\u001b[0m\u001b[1;33m(\u001b[0m\u001b[0mnode\u001b[0m\u001b[1;33m,\u001b[0m\u001b[0mw\u001b[0m\u001b[1;33m)\u001b[0m\u001b[1;33m:\u001b[0m\u001b[1;33m\u001b[0m\u001b[1;33m\u001b[0m\u001b[0m\n\u001b[0;32m      5\u001b[0m             \u001b[0msum_w\u001b[0m\u001b[1;33m+=\u001b[0m\u001b[0mG\u001b[0m\u001b[1;33m[\u001b[0m\u001b[0mnode\u001b[0m\u001b[1;33m]\u001b[0m\u001b[1;33m[\u001b[0m\u001b[0mw\u001b[0m\u001b[1;33m]\u001b[0m\u001b[1;33m[\u001b[0m\u001b[1;34m'sign'\u001b[0m\u001b[1;33m]\u001b[0m\u001b[1;33m\u001b[0m\u001b[1;33m\u001b[0m\u001b[0m\n\u001b[1;32m----> 6\u001b[1;33m         \u001b[1;32melif\u001b[0m \u001b[0mG\u001b[0m\u001b[1;33m.\u001b[0m\u001b[0mhas_edge\u001b[0m\u001b[1;33m(\u001b[0m\u001b[0mw\u001b[0m\u001b[1;33m,\u001b[0m\u001b[0mnode\u001b[0m\u001b[1;33m)\u001b[0m\u001b[1;33m:\u001b[0m\u001b[1;33m\u001b[0m\u001b[1;33m\u001b[0m\u001b[0m\n\u001b[0m\u001b[0;32m      7\u001b[0m             \u001b[0msum_w\u001b[0m\u001b[1;33m+=\u001b[0m\u001b[0mG\u001b[0m\u001b[1;33m[\u001b[0m\u001b[0mw\u001b[0m\u001b[1;33m]\u001b[0m\u001b[1;33m[\u001b[0m\u001b[0mnode\u001b[0m\u001b[1;33m]\u001b[0m\u001b[1;33m[\u001b[0m\u001b[1;34m'sign'\u001b[0m\u001b[1;33m]\u001b[0m\u001b[1;33m\u001b[0m\u001b[1;33m\u001b[0m\u001b[0m\n\u001b[0;32m      8\u001b[0m         \u001b[1;32melse\u001b[0m\u001b[1;33m:\u001b[0m\u001b[1;33m\u001b[0m\u001b[1;33m\u001b[0m\u001b[0m\n",
      "\u001b[1;32mC:\\Users\\Bouhmid\\Anaconda3\\lib\\site-packages\\networkx\\classes\\graph.py\u001b[0m in \u001b[0;36mhas_edge\u001b[1;34m(self, u, v)\u001b[0m\n\u001b[0;32m   1193\u001b[0m         \"\"\"\n\u001b[0;32m   1194\u001b[0m         \u001b[1;32mtry\u001b[0m\u001b[1;33m:\u001b[0m\u001b[1;33m\u001b[0m\u001b[1;33m\u001b[0m\u001b[0m\n\u001b[1;32m-> 1195\u001b[1;33m             \u001b[1;32mreturn\u001b[0m \u001b[0mv\u001b[0m \u001b[1;32min\u001b[0m \u001b[0mself\u001b[0m\u001b[1;33m.\u001b[0m\u001b[0m_adj\u001b[0m\u001b[1;33m[\u001b[0m\u001b[0mu\u001b[0m\u001b[1;33m]\u001b[0m\u001b[1;33m\u001b[0m\u001b[1;33m\u001b[0m\u001b[0m\n\u001b[0m\u001b[0;32m   1196\u001b[0m         \u001b[1;32mexcept\u001b[0m \u001b[0mKeyError\u001b[0m\u001b[1;33m:\u001b[0m\u001b[1;33m\u001b[0m\u001b[1;33m\u001b[0m\u001b[0m\n\u001b[0;32m   1197\u001b[0m             \u001b[1;32mreturn\u001b[0m \u001b[1;32mFalse\u001b[0m\u001b[1;33m\u001b[0m\u001b[1;33m\u001b[0m\u001b[0m\n",
      "\u001b[1;31mKeyboardInterrupt\u001b[0m: "
     ]
    }
   ],
   "source": [
    "communities_set_wiki = detection_algorithm(wiki_graph)"
   ]
  },
  {
   "cell_type": "code",
   "execution_count": null,
   "metadata": {},
   "outputs": [],
   "source": [
    "print(list(set(wiki_graph.edges()))[:10])"
   ]
  },
  {
   "cell_type": "code",
   "execution_count": 47,
   "metadata": {},
   "outputs": [
    {
     "data": {
      "text/plain": [
       "[]"
      ]
     },
     "execution_count": 47,
     "metadata": {},
     "output_type": "execute_result"
    }
   ],
   "source": [
    "[e for e in list(set(wiki_graph.edges()))[:10] if wiki_graph[e[0]][e[1]] == 1]"
   ]
  },
  {
   "cell_type": "code",
   "execution_count": 105,
   "metadata": {},
   "outputs": [
    {
     "data": {
      "text/plain": [
       "False"
      ]
     },
     "execution_count": 105,
     "metadata": {},
     "output_type": "execute_result"
    }
   ],
   "source": [
    "wiki_graph.has_edge(2328,3073)"
   ]
  },
  {
   "cell_type": "code",
   "execution_count": null,
   "metadata": {},
   "outputs": [],
   "source": []
  }
 ],
 "metadata": {
  "kernelspec": {
   "display_name": "Python 3",
   "language": "python",
   "name": "python3"
  },
  "language_info": {
   "codemirror_mode": {
    "name": "ipython",
    "version": 3
   },
   "file_extension": ".py",
   "mimetype": "text/x-python",
   "name": "python",
   "nbconvert_exporter": "python",
   "pygments_lexer": "ipython3",
   "version": "3.7.4"
  }
 },
 "nbformat": 4,
 "nbformat_minor": 4
}
